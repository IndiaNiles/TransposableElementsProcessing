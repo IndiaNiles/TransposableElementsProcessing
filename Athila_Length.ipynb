{
 "cells": [
  {
   "cell_type": "code",
   "execution_count": 23,
   "metadata": {},
   "outputs": [
    {
     "name": "stdout",
     "output_type": "stream",
     "text": [
      "      Unnamed: 0                                                #TE Order  \\\n",
      "0              0  Aalpi_chr_1:11988481..11994082#LTR/Gypsy|Aalpi...   LTR   \n",
      "1              1  Aalpi_chr_1:13950505..13962487#LTR/Gypsy|Aalpi...   LTR   \n",
      "2              2  Aalpi_chr_1:240326..244813#LTR/Gypsy|Aalpi_chr...   LTR   \n",
      "3              3  Aalpi_chr_1:25319870..25334603#LTR/Gypsy|Aalpi...   LTR   \n",
      "4              4  Aalpi_chr_1:25321130..25333479#LTR/Gypsy|Aalpi...   LTR   \n",
      "...          ...                                                ...   ...   \n",
      "9995        9995  SUPER_2:73652962..73663483-intact#Gypsy_LTR_re...   LTR   \n",
      "9996        9996  SUPER_2:73819789..73833847-intact#Gypsy_LTR_re...   LTR   \n",
      "9997        9997  SUPER_2:73930660..73944310-intact#Gypsy_LTR_re...   LTR   \n",
      "9998        9998  SUPER_2:73988712..73998414-intact#Gypsy_LTR_re...   LTR   \n",
      "9999        9999  SUPER_2:74051714..74063528-intact#Gypsy_LTR_re...   LTR   \n",
      "\n",
      "     Superfamily   Clade Complete Strand             Domains     Genome  \n",
      "0          Gypsy   Reina      yes      +  GAG PROT RT RH INT      Aalpi  \n",
      "1          Gypsy  Retand      yes      -  GAG PROT RT RH INT      Aalpi  \n",
      "2          Gypsy   Reina       no      -                 GAG      Aalpi  \n",
      "3          Gypsy  Athila      yes      +  GAG PROT RT RH INT      Aalpi  \n",
      "4          Gypsy  Athila      yes      +  GAG PROT RT RH INT      Aalpi  \n",
      "...          ...     ...      ...    ...                 ...        ...  \n",
      "9995       Gypsy  Retand       no      +     GAG PROT RT INT  daBalNigr  \n",
      "9996       Gypsy  Athila      yes      +  GAG PROT RT RH INT  daBalNigr  \n",
      "9997       Gypsy  Retand      yes      +  GAG PROT RT RH INT  daBalNigr  \n",
      "9998       Gypsy  Athila       no      +            GAG PROT  daBalNigr  \n",
      "9999       Gypsy  Retand      yes      +  GAG PROT RT RH INT  daBalNigr  \n",
      "\n",
      "[10000 rows x 9 columns]\n"
     ]
    }
   ],
   "source": [
    "import re\n",
    "import pandas as pd\n",
    "\n",
    "filename = \"ltr_gypsy_processed.tsv\"\n",
    "data = pd.read_csv(\"out/\" + filename, sep='\\t').head(10000)\n",
    "\n",
    "print(data)"
   ]
  },
  {
   "cell_type": "code",
   "execution_count": 24,
   "metadata": {},
   "outputs": [
    {
     "name": "stdout",
     "output_type": "stream",
     "text": [
      "      Unnamed: 0                                                #TE Order  \\\n",
      "3              3  Aalpi_chr_1:25319870..25334603#LTR/Gypsy|Aalpi...   LTR   \n",
      "4              4  Aalpi_chr_1:25321130..25333479#LTR/Gypsy|Aalpi...   LTR   \n",
      "5              5  Aalpi_chr_1:8850195..8862201#LTR/Gypsy|Aalpi_c...   LTR   \n",
      "7              7  Aalpi_chr_2:11140246..11151623#LTR/Gypsy|Aalpi...   LTR   \n",
      "8              8  Aalpi_chr_2:14080434..14094518#LTR/Gypsy|Aalpi...   LTR   \n",
      "...          ...                                                ...   ...   \n",
      "9985        9985  SUPER_2:72174625..72185925-intact#Gypsy_LTR_re...   LTR   \n",
      "9990        9990  SUPER_2:72828814..72837122-intact#Gypsy_LTR_re...   LTR   \n",
      "9992        9992  SUPER_2:729831..747470-intact#Gypsy_LTR_retrot...   LTR   \n",
      "9996        9996  SUPER_2:73819789..73833847-intact#Gypsy_LTR_re...   LTR   \n",
      "9998        9998  SUPER_2:73988712..73998414-intact#Gypsy_LTR_re...   LTR   \n",
      "\n",
      "     Superfamily   Clade Complete Strand             Domains     Genome  \n",
      "3          Gypsy  Athila      yes      +  GAG PROT RT RH INT      Aalpi  \n",
      "4          Gypsy  Athila      yes      +  GAG PROT RT RH INT      Aalpi  \n",
      "5          Gypsy  Athila      yes      -  GAG PROT RT RH INT      Aalpi  \n",
      "7          Gypsy  Athila      yes      +  GAG PROT RT RH INT      Aalpi  \n",
      "8          Gypsy  Athila       no      +            GAG PROT      Aalpi  \n",
      "...          ...     ...      ...    ...                 ...        ...  \n",
      "9985       Gypsy  Athila       no      +            GAG PROT  daBalNigr  \n",
      "9990       Gypsy  Athila       no      +            GAG PROT  daBalNigr  \n",
      "9992       Gypsy  Athila      yes      +  GAG PROT RT RH INT  daBalNigr  \n",
      "9996       Gypsy  Athila      yes      +  GAG PROT RT RH INT  daBalNigr  \n",
      "9998       Gypsy  Athila       no      +            GAG PROT  daBalNigr  \n",
      "\n",
      "[2556 rows x 9 columns]\n"
     ]
    }
   ],
   "source": [
    "data = data[data[\"Clade\"] == \"Athila\"]\n",
    "\n",
    "print(data)"
   ]
  },
  {
   "cell_type": "code",
   "execution_count": 25,
   "metadata": {},
   "outputs": [
    {
     "name": "stdout",
     "output_type": "stream",
     "text": [
      "      Unnamed: 0                                                #TE Order  \\\n",
      "3              3  Aalpi_chr_1:25319870..25334603#LTR/Gypsy|Aalpi...   LTR   \n",
      "4              4  Aalpi_chr_1:25321130..25333479#LTR/Gypsy|Aalpi...   LTR   \n",
      "5              5  Aalpi_chr_1:8850195..8862201#LTR/Gypsy|Aalpi_c...   LTR   \n",
      "7              7  Aalpi_chr_2:11140246..11151623#LTR/Gypsy|Aalpi...   LTR   \n",
      "8              8  Aalpi_chr_2:14080434..14094518#LTR/Gypsy|Aalpi...   LTR   \n",
      "...          ...                                                ...   ...   \n",
      "9985        9985  SUPER_2:72174625..72185925-intact#Gypsy_LTR_re...   LTR   \n",
      "9990        9990  SUPER_2:72828814..72837122-intact#Gypsy_LTR_re...   LTR   \n",
      "9992        9992  SUPER_2:729831..747470-intact#Gypsy_LTR_retrot...   LTR   \n",
      "9996        9996  SUPER_2:73819789..73833847-intact#Gypsy_LTR_re...   LTR   \n",
      "9998        9998  SUPER_2:73988712..73998414-intact#Gypsy_LTR_re...   LTR   \n",
      "\n",
      "     Superfamily   Clade Complete Strand             Domains     Genome  \\\n",
      "3          Gypsy  Athila      yes      +  GAG PROT RT RH INT      Aalpi   \n",
      "4          Gypsy  Athila      yes      +  GAG PROT RT RH INT      Aalpi   \n",
      "5          Gypsy  Athila      yes      -  GAG PROT RT RH INT      Aalpi   \n",
      "7          Gypsy  Athila      yes      +  GAG PROT RT RH INT      Aalpi   \n",
      "8          Gypsy  Athila       no      +            GAG PROT      Aalpi   \n",
      "...          ...     ...      ...    ...                 ...        ...   \n",
      "9985       Gypsy  Athila       no      +            GAG PROT  daBalNigr   \n",
      "9990       Gypsy  Athila       no      +            GAG PROT  daBalNigr   \n",
      "9992       Gypsy  Athila      yes      +  GAG PROT RT RH INT  daBalNigr   \n",
      "9996       Gypsy  Athila      yes      +  GAG PROT RT RH INT  daBalNigr   \n",
      "9998       Gypsy  Athila       no      +            GAG PROT  daBalNigr   \n",
      "\n",
      "                  Length  \n",
      "3     25319870..25334603  \n",
      "4     25321130..25333479  \n",
      "5       8850195..8862201  \n",
      "7     11140246..11151623  \n",
      "8     14080434..14094518  \n",
      "...                  ...  \n",
      "9985  72174625..72185925  \n",
      "9990  72828814..72837122  \n",
      "9992      729831..747470  \n",
      "9996  73819789..73833847  \n",
      "9998  73988712..73998414  \n",
      "\n",
      "[2556 rows x 10 columns]\n"
     ]
    }
   ],
   "source": [
    "data['Length'] = data['#TE'].str.extract(\"(\\d+\\.\\.\\d+)\", expand=True)\n",
    "print(data)"
   ]
  },
  {
   "cell_type": "code",
   "execution_count": 26,
   "metadata": {},
   "outputs": [
    {
     "name": "stdout",
     "output_type": "stream",
     "text": [
      "      Unnamed: 0                                                #TE Order  \\\n",
      "3              3  Aalpi_chr_1:25319870..25334603#LTR/Gypsy|Aalpi...   LTR   \n",
      "4              4  Aalpi_chr_1:25321130..25333479#LTR/Gypsy|Aalpi...   LTR   \n",
      "5              5  Aalpi_chr_1:8850195..8862201#LTR/Gypsy|Aalpi_c...   LTR   \n",
      "7              7  Aalpi_chr_2:11140246..11151623#LTR/Gypsy|Aalpi...   LTR   \n",
      "8              8  Aalpi_chr_2:14080434..14094518#LTR/Gypsy|Aalpi...   LTR   \n",
      "...          ...                                                ...   ...   \n",
      "9985        9985  SUPER_2:72174625..72185925-intact#Gypsy_LTR_re...   LTR   \n",
      "9990        9990  SUPER_2:72828814..72837122-intact#Gypsy_LTR_re...   LTR   \n",
      "9992        9992  SUPER_2:729831..747470-intact#Gypsy_LTR_retrot...   LTR   \n",
      "9996        9996  SUPER_2:73819789..73833847-intact#Gypsy_LTR_re...   LTR   \n",
      "9998        9998  SUPER_2:73988712..73998414-intact#Gypsy_LTR_re...   LTR   \n",
      "\n",
      "     Superfamily   Clade Complete Strand             Domains     Genome  \\\n",
      "3          Gypsy  Athila      yes      +  GAG PROT RT RH INT      Aalpi   \n",
      "4          Gypsy  Athila      yes      +  GAG PROT RT RH INT      Aalpi   \n",
      "5          Gypsy  Athila      yes      -  GAG PROT RT RH INT      Aalpi   \n",
      "7          Gypsy  Athila      yes      +  GAG PROT RT RH INT      Aalpi   \n",
      "8          Gypsy  Athila       no      +            GAG PROT      Aalpi   \n",
      "...          ...     ...      ...    ...                 ...        ...   \n",
      "9985       Gypsy  Athila       no      +            GAG PROT  daBalNigr   \n",
      "9990       Gypsy  Athila       no      +            GAG PROT  daBalNigr   \n",
      "9992       Gypsy  Athila      yes      +  GAG PROT RT RH INT  daBalNigr   \n",
      "9996       Gypsy  Athila      yes      +  GAG PROT RT RH INT  daBalNigr   \n",
      "9998       Gypsy  Athila       no      +            GAG PROT  daBalNigr   \n",
      "\n",
      "      Length  \n",
      "3      14733  \n",
      "4      12349  \n",
      "5      12006  \n",
      "7      11377  \n",
      "8      14084  \n",
      "...      ...  \n",
      "9985   11300  \n",
      "9990    8308  \n",
      "9992   17639  \n",
      "9996   14058  \n",
      "9998    9702  \n",
      "\n",
      "[2556 rows x 10 columns]\n"
     ]
    }
   ],
   "source": [
    "def get_length(row):\n",
    "    [start_loc, end_loc] = row['Length'].split(\"..\")\n",
    "    return int(end_loc) - int(start_loc)\n",
    "\n",
    "data[\"Length\"] = data.apply(get_length, axis=1)\n",
    "\n",
    "print(data)"
   ]
  }
 ],
 "metadata": {
  "kernelspec": {
   "display_name": "Python 3",
   "language": "python",
   "name": "python3"
  },
  "language_info": {
   "codemirror_mode": {
    "name": "ipython",
    "version": 3
   },
   "file_extension": ".py",
   "mimetype": "text/x-python",
   "name": "python",
   "nbconvert_exporter": "python",
   "pygments_lexer": "ipython3",
   "version": "3.11.6"
  }
 },
 "nbformat": 4,
 "nbformat_minor": 2
}
